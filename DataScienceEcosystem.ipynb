{
 "cells": [
  {
   "cell_type": "markdown",
   "id": "635b5649-4399-43d5-822c-d18af20f2629",
   "metadata": {},
   "source": [
    "# Science Tools and Ecosystem"
   ]
  },
  {
   "cell_type": "markdown",
   "id": "33d21cc9-c6dd-44bb-abaf-efa6fc4ad118",
   "metadata": {},
   "source": [
    "## In this notebook, Data Science Tools and Ecosystem are summarized."
   ]
  },
  {
   "cell_type": "markdown",
   "id": "255104d6-63ae-4d8e-bbc3-5b5a2e1c465e",
   "metadata": {},
   "source": [
    "**Objectives:**\n",
    "\n",
    "* List popular languages for Data Science.\n",
    "* List commonly libraries used by Data Scientists.\n",
    "* On a single column table, list three Open Source IDEs for Data Science.\n",
    "* Write a few examples of evaluating arithmetic expressions in Python.\n",
    "* Create a code cell to multiply and add numbers.\n",
    "* Create a code cell to convert minutes to hours.\n",
    "  "
   ]
  },
  {
   "cell_type": "markdown",
   "id": "cf4b4ef7-0021-4c51-9f97-88635e537830",
   "metadata": {},
   "source": [
    "### Some of the popular languages that Data Scientists use are:\n",
    "\n",
    "1. Python\n",
    "2. R\n",
    "3. SQL\n",
    "4. Scala\n",
    "5. Java\n",
    "6. C++\n",
    "7. Julia\n"
   ]
  },
  {
   "cell_type": "markdown",
   "id": "f70844e8-28e7-4531-9e3f-56d1a46d4dd6",
   "metadata": {},
   "source": [
    "### Some of the commonly used libraries used by Data Scientists include:\n",
    "\n",
    "1. NumPy\n",
    "2. SciPy\n",
    "3. Pandas\n",
    "4. Matplotlib\n",
    "5. Seaborn\n",
    "6. Scikit-learn\n",
    "7. Keras\n",
    "8. Tensorflow\n",
    "9. Pytorch\n",
    "   "
   ]
  },
  {
   "cell_type": "markdown",
   "id": "c559cba3-b146-4081-b264-4cbe3225e67c",
   "metadata": {},
   "source": [
    "Data Science Tools|\n",
    "------------------|\n",
    "Jupyter Notebook|\n",
    "Jupyter Lab|\n",
    "Apache Zeppelin|\n",
    "Rstudio|"
   ]
  },
  {
   "cell_type": "markdown",
   "id": "8e5ee02c-9012-4bc0-99d6-aff99f0f64a4",
   "metadata": {},
   "source": [
    "### Below are a few examples of evaluating arithmetic expressions in Python.\n",
    "$$ y = m*(x-a) + b $$\n",
    "$$ b = a**2 $$\n",
    "$$ c = b**3 $$\n"
   ]
  },
  {
   "cell_type": "code",
   "execution_count": 1,
   "id": "c1a27664-39c7-44f9-b9cd-97a307239df8",
   "metadata": {},
   "outputs": [
    {
     "data": {
      "text/plain": [
       "17"
      ]
     },
     "execution_count": 1,
     "metadata": {},
     "output_type": "execute_result"
    }
   ],
   "source": [
    "(3*4+5) # This a simple arithmetic expression to mutiply then add integers"
   ]
  },
  {
   "cell_type": "code",
   "execution_count": 8,
   "id": "703d7ab9-80e8-4c7c-8471-1bfb0c79dcfb",
   "metadata": {},
   "outputs": [
    {
     "name": "stdout",
     "output_type": "stream",
     "text": [
      "200 minutes = 3.3333333333333335 hours\n"
     ]
    }
   ],
   "source": [
    "def M2H(m):\n",
    "    h=m/60\n",
    "    print(m, 'minutes =', h, 'hours')\n",
    "\n",
    "M2H(200) # This will convert 200 minutes to hours by diving by 60"
   ]
  },
  {
   "cell_type": "markdown",
   "id": "96c4b636-21a6-44ba-90c4-361e8428c2ee",
   "metadata": {},
   "source": [
    "## Author\n",
    "Leonardo Vittar"
   ]
  }
 ],
 "metadata": {
  "kernelspec": {
   "display_name": "Python 3 (ipykernel)",
   "language": "python",
   "name": "python3"
  },
  "language_info": {
   "codemirror_mode": {
    "name": "ipython",
    "version": 3
   },
   "file_extension": ".py",
   "mimetype": "text/x-python",
   "name": "python",
   "nbconvert_exporter": "python",
   "pygments_lexer": "ipython3",
   "version": "3.12.3"
  }
 },
 "nbformat": 4,
 "nbformat_minor": 5
}
